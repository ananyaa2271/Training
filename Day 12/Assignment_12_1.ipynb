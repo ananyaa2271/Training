{
 "cells": [
  {
   "cell_type": "markdown",
   "id": "23318096",
   "metadata": {},
   "source": [
    "### Assignment 12. 1\n",
    "\n",
    "* created a decorator @cached\n",
    "* it should return the result from a cache for a repeat parameter\n"
   ]
  },
  {
   "cell_type": "code",
   "execution_count": 21,
   "id": "899e92da",
   "metadata": {},
   "outputs": [],
   "source": [
    "def cached(fn):\n",
    "    cache = {}\n",
    "    \n",
    "    def inner(* args, **kwargs):\n",
    "        if(args[0] in cache):\n",
    "            return cache[args[0]]\n",
    "        else:\n",
    "            res = fn(* args, **kwargs)\n",
    "            cache[args[0]] = res\n",
    "            return res\n",
    "        \n",
    "        \n",
    "    return inner"
   ]
  },
  {
   "cell_type": "code",
   "execution_count": 22,
   "id": "7808acbb",
   "metadata": {},
   "outputs": [],
   "source": [
    "import time\n",
    "@cached\n",
    "def factorial(n):\n",
    "    fn = 1\n",
    "    for i in range(1, n+1):\n",
    "        time.sleep(0.5)\n",
    "        fn *= i\n",
    "    return fn\n"
   ]
  },
  {
   "cell_type": "code",
   "execution_count": 23,
   "id": "9b82e15a",
   "metadata": {},
   "outputs": [
    {
     "name": "stdout",
     "output_type": "stream",
     "text": [
      "120\n"
     ]
    }
   ],
   "source": [
    "r1 = factorial(5)\n",
    "print(r1)"
   ]
  },
  {
   "cell_type": "code",
   "execution_count": 24,
   "id": "d6573c65",
   "metadata": {},
   "outputs": [
    {
     "name": "stdout",
     "output_type": "stream",
     "text": [
      "5040\n"
     ]
    }
   ],
   "source": [
    "r2 = factorial(7)\n",
    "print(r2)"
   ]
  },
  {
   "cell_type": "code",
   "execution_count": 25,
   "id": "c0236593",
   "metadata": {},
   "outputs": [
    {
     "name": "stdout",
     "output_type": "stream",
     "text": [
      "120\n"
     ]
    }
   ],
   "source": [
    "r3 = factorial(5)\n",
    "print(r3)"
   ]
  },
  {
   "cell_type": "code",
   "execution_count": null,
   "id": "1995a58d",
   "metadata": {},
   "outputs": [],
   "source": []
  }
 ],
 "metadata": {
  "kernelspec": {
   "display_name": "Python 3 (ipykernel)",
   "language": "python",
   "name": "python3"
  },
  "language_info": {
   "codemirror_mode": {
    "name": "ipython",
    "version": 3
   },
   "file_extension": ".py",
   "mimetype": "text/x-python",
   "name": "python",
   "nbconvert_exporter": "python",
   "pygments_lexer": "ipython3",
   "version": "3.11.4"
  }
 },
 "nbformat": 4,
 "nbformat_minor": 5
}
