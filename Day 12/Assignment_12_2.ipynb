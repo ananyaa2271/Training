{
 "cells": [
  {
   "cell_type": "code",
   "execution_count": 190,
   "id": "a2c29d53",
   "metadata": {},
   "outputs": [],
   "source": [
    "def supress_exception(exception, result):\n",
    "    \n",
    "    def decorator(fn):\n",
    "    \n",
    "        def inner(*args, **kwargs):\n",
    "            try:\n",
    "                res = fn(*args, **kwargs)\n",
    "            except exception:\n",
    "                # if given exception ('KeyError' or 'TypeError') is raised, return result\n",
    "                return result\n",
    "\n",
    "            return res\n",
    "        \n",
    "        return inner\n",
    "    \n",
    "    return decorator"
   ]
  },
  {
   "cell_type": "code",
   "execution_count": 191,
   "id": "f9c19d92",
   "metadata": {},
   "outputs": [],
   "source": [
    "users = {'jyothi':'p@ss', 'steve':'abcd'}\n",
    "@supress_exception(exception = KeyError, result=False)\n",
    "def authenticate_except_keyerror(user, password):\n",
    "    return users[user]==password\n",
    "\n",
    "@supress_exception(exception=TypeError, result=False)\n",
    "def authenticate_except_typeerror(user, password):\n",
    "    return users[user]==password\n",
    "\n"
   ]
  },
  {
   "cell_type": "code",
   "execution_count": 192,
   "id": "5d01be41",
   "metadata": {},
   "outputs": [
    {
     "name": "stdout",
     "output_type": "stream",
     "text": [
      "True\n",
      "False\n"
     ]
    },
    {
     "ename": "TypeError",
     "evalue": "authenticate_except_keyerror() missing 1 required positional argument: 'password'",
     "output_type": "error",
     "traceback": [
      "\u001b[1;31m---------------------------------------------------------------------------\u001b[0m",
      "\u001b[1;31mTypeError\u001b[0m                                 Traceback (most recent call last)",
      "Cell \u001b[1;32mIn[192], line 3\u001b[0m\n\u001b[0;32m      1\u001b[0m \u001b[38;5;28mprint\u001b[39m(authenticate_except_keyerror(\u001b[38;5;124m'\u001b[39m\u001b[38;5;124mjyothi\u001b[39m\u001b[38;5;124m'\u001b[39m, \u001b[38;5;124m'\u001b[39m\u001b[38;5;124mp@ss\u001b[39m\u001b[38;5;124m'\u001b[39m))\n\u001b[0;32m      2\u001b[0m \u001b[38;5;28mprint\u001b[39m(authenticate_except_keyerror(\u001b[38;5;124m'\u001b[39m\u001b[38;5;124mrjrhw\u001b[39m\u001b[38;5;124m'\u001b[39m, \u001b[38;5;241m33\u001b[39m))\n\u001b[1;32m----> 3\u001b[0m \u001b[38;5;28mprint\u001b[39m(authenticate_except_keyerror(\u001b[38;5;124m'\u001b[39m\u001b[38;5;124mehuedd\u001b[39m\u001b[38;5;124m'\u001b[39m))\n",
      "Cell \u001b[1;32mIn[190], line 7\u001b[0m, in \u001b[0;36msupress_exception.<locals>.decorator.<locals>.inner\u001b[1;34m(*args, **kwargs)\u001b[0m\n\u001b[0;32m      5\u001b[0m \u001b[38;5;28;01mdef\u001b[39;00m \u001b[38;5;21minner\u001b[39m(\u001b[38;5;241m*\u001b[39margs, \u001b[38;5;241m*\u001b[39m\u001b[38;5;241m*\u001b[39mkwargs):\n\u001b[0;32m      6\u001b[0m     \u001b[38;5;28;01mtry\u001b[39;00m:\n\u001b[1;32m----> 7\u001b[0m         res \u001b[38;5;241m=\u001b[39m fn(\u001b[38;5;241m*\u001b[39margs, \u001b[38;5;241m*\u001b[39m\u001b[38;5;241m*\u001b[39mkwargs)\n\u001b[0;32m      8\u001b[0m     \u001b[38;5;28;01mexcept\u001b[39;00m exception:\n\u001b[0;32m      9\u001b[0m         \u001b[38;5;66;03m# if given exception ('KeyError' or 'TypeError') is raised, return result\u001b[39;00m\n\u001b[0;32m     10\u001b[0m         \u001b[38;5;28;01mreturn\u001b[39;00m result\n",
      "\u001b[1;31mTypeError\u001b[0m: authenticate_except_keyerror() missing 1 required positional argument: 'password'"
     ]
    }
   ],
   "source": [
    "print(authenticate_except_keyerror('jyothi', 'p@ss'))\n",
    "print(authenticate_except_keyerror('rjrhw', 33))\n",
    "print(authenticate_except_keyerror('ehuedd'))"
   ]
  },
  {
   "cell_type": "code",
   "execution_count": 193,
   "id": "cb8f3d9e",
   "metadata": {},
   "outputs": [
    {
     "name": "stdout",
     "output_type": "stream",
     "text": [
      "True\n",
      "False\n"
     ]
    },
    {
     "ename": "KeyError",
     "evalue": "'rjrhw'",
     "output_type": "error",
     "traceback": [
      "\u001b[1;31m---------------------------------------------------------------------------\u001b[0m",
      "\u001b[1;31mKeyError\u001b[0m                                  Traceback (most recent call last)",
      "Cell \u001b[1;32mIn[193], line 3\u001b[0m\n\u001b[0;32m      1\u001b[0m \u001b[38;5;28mprint\u001b[39m(authenticate_except_typeerror(\u001b[38;5;124m'\u001b[39m\u001b[38;5;124mjyothi\u001b[39m\u001b[38;5;124m'\u001b[39m, \u001b[38;5;124m'\u001b[39m\u001b[38;5;124mp@ss\u001b[39m\u001b[38;5;124m'\u001b[39m))\n\u001b[0;32m      2\u001b[0m \u001b[38;5;28mprint\u001b[39m(authenticate_except_typeerror(\u001b[38;5;124m'\u001b[39m\u001b[38;5;124mehuedd\u001b[39m\u001b[38;5;124m'\u001b[39m))\n\u001b[1;32m----> 3\u001b[0m \u001b[38;5;28mprint\u001b[39m(authenticate_except_typeerror(\u001b[38;5;124m'\u001b[39m\u001b[38;5;124mrjrhw\u001b[39m\u001b[38;5;124m'\u001b[39m, \u001b[38;5;241m33\u001b[39m))\n",
      "Cell \u001b[1;32mIn[190], line 7\u001b[0m, in \u001b[0;36msupress_exception.<locals>.decorator.<locals>.inner\u001b[1;34m(*args, **kwargs)\u001b[0m\n\u001b[0;32m      5\u001b[0m \u001b[38;5;28;01mdef\u001b[39;00m \u001b[38;5;21minner\u001b[39m(\u001b[38;5;241m*\u001b[39margs, \u001b[38;5;241m*\u001b[39m\u001b[38;5;241m*\u001b[39mkwargs):\n\u001b[0;32m      6\u001b[0m     \u001b[38;5;28;01mtry\u001b[39;00m:\n\u001b[1;32m----> 7\u001b[0m         res \u001b[38;5;241m=\u001b[39m fn(\u001b[38;5;241m*\u001b[39margs, \u001b[38;5;241m*\u001b[39m\u001b[38;5;241m*\u001b[39mkwargs)\n\u001b[0;32m      8\u001b[0m     \u001b[38;5;28;01mexcept\u001b[39;00m exception:\n\u001b[0;32m      9\u001b[0m         \u001b[38;5;66;03m# if given exception ('KeyError' or 'TypeError') is raised, return result\u001b[39;00m\n\u001b[0;32m     10\u001b[0m         \u001b[38;5;28;01mreturn\u001b[39;00m result\n",
      "Cell \u001b[1;32mIn[191], line 8\u001b[0m, in \u001b[0;36mauthenticate_except_typeerror\u001b[1;34m(user, password)\u001b[0m\n\u001b[0;32m      6\u001b[0m \u001b[38;5;129m@supress_exception\u001b[39m(exception\u001b[38;5;241m=\u001b[39m\u001b[38;5;167;01mTypeError\u001b[39;00m, result\u001b[38;5;241m=\u001b[39m\u001b[38;5;28;01mFalse\u001b[39;00m)\n\u001b[0;32m      7\u001b[0m \u001b[38;5;28;01mdef\u001b[39;00m \u001b[38;5;21mauthenticate_except_typeerror\u001b[39m(user, password):\n\u001b[1;32m----> 8\u001b[0m     \u001b[38;5;28;01mreturn\u001b[39;00m users[user]\u001b[38;5;241m==\u001b[39mpassword\n",
      "\u001b[1;31mKeyError\u001b[0m: 'rjrhw'"
     ]
    }
   ],
   "source": [
    "print(authenticate_except_typeerror('jyothi', 'p@ss'))\n",
    "print(authenticate_except_typeerror('ehuedd'))\n",
    "print(authenticate_except_typeerror('rjrhw', 33))\n"
   ]
  },
  {
   "cell_type": "code",
   "execution_count": null,
   "id": "891fbbd0",
   "metadata": {},
   "outputs": [],
   "source": []
  }
 ],
 "metadata": {
  "kernelspec": {
   "display_name": "Python 3 (ipykernel)",
   "language": "python",
   "name": "python3"
  },
  "language_info": {
   "codemirror_mode": {
    "name": "ipython",
    "version": 3
   },
   "file_extension": ".py",
   "mimetype": "text/x-python",
   "name": "python",
   "nbconvert_exporter": "python",
   "pygments_lexer": "ipython3",
   "version": "3.11.4"
  }
 },
 "nbformat": 4,
 "nbformat_minor": 5
}
