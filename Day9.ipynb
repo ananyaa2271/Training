{
 "cells": [
  {
   "cell_type": "markdown",
   "metadata": {},
   "source": [
    "*** 1.FindPrimes to find all prime numbers in the list ***\n",
    "\n",
    "*** 2.FindEvens to find all the even numbers in the list ***"
   ]
  },
  {
   "cell_type": "code",
   "execution_count": 1,
   "metadata": {},
   "outputs": [],
   "source": [
    "class Node:\n",
    "    def __init__(self, value,_next=None, previous=None):\n",
    "        self._value=value\n",
    "        self.__next=_next\n",
    "        self._previous=previous\n",
    "\n",
    "class LinkedList:\n",
    "    def __init__(self):\n",
    "        self._first=None\n",
    "\n",
    "    def append(self, value):\n",
    "        if self._first==None: # list is empty\n",
    "            self._first=Node(value)\n",
    "        else: # add to the end of a non-empty list\n",
    "            n=self._first\n",
    "            while n.__next:\n",
    "                n=n.__next\n",
    "            n.__next=Node(value, previous=n)\n",
    "\n",
    "    def info(self):\n",
    "        if self._first==None: \n",
    "            return \"LinkedList(empty)\"\n",
    "        str=\"LinkedList(\\t\"\n",
    "        n=self._first\n",
    "        while n:\n",
    "            str+=f'{n._value}\\t'\n",
    "            n=n.__next\n",
    "        str+=\")\"\n",
    "        return str\n",
    "\n",
    "    def size(self):\n",
    "        c=0\n",
    "        n=self._first\n",
    "        while n:\n",
    "            c+=1\n",
    "            n=n.__next\n",
    "        return c    "
   ]
  },
  {
   "cell_type": "code",
   "execution_count": 2,
   "metadata": {},
   "outputs": [],
   "source": [
    "def loop(list,index):\n",
    "    count = 0\n",
    "    prev = list._first\n",
    "    cur = list._first\n",
    "    while count<index and cur:\n",
    "        prev = cur            \n",
    "        cur = cur.__next                \n",
    "        count+=1\n",
    "    return [prev,cur]"
   ]
  },
  {
   "cell_type": "code",
   "execution_count": 3,
   "metadata": {},
   "outputs": [],
   "source": [
    "def isprime(n):\n",
    "    flag = 0\n",
    "    for i in range(2,int((n)/2+1)):\n",
    "        if n%i==0:\n",
    "            flag=1\n",
    "    if flag == 0:\n",
    "        return 1\n",
    "    else:\n",
    "        return 0\n",
    "\n",
    "\n",
    "def Findprime(list):\n",
    "    print(\"Prime\")\n",
    "    cur = list._first\n",
    "    prev = list._first\n",
    "    while cur.__next:\n",
    "        prev = cur            \n",
    "        cur = cur.__next      \n",
    "        data = cur._value\n",
    "        if(isprime(data) and data!=1 and data!=0):\n",
    "            print(data, end=\"\\t\")  \n",
    "\n",
    "def isEven(list):\n",
    "    print(\"\\nEVEN\")\n",
    "    cur = list._first\n",
    "    prev = list._first\n",
    "    while cur.__next:\n",
    "        prev = cur            \n",
    "        cur = cur.__next      \n",
    "        data = prev._value  \n",
    "        if data%2==0:\n",
    "            print(f'{data}',end=\"\\t\")"
   ]
  },
  {
   "cell_type": "code",
   "execution_count": 4,
   "metadata": {},
   "outputs": [
    {
     "name": "stdout",
     "output_type": "stream",
     "text": [
      "Prime\n",
      "2\t3\t5\t7\t11\t13\t17\t19\t\n",
      "EVEN\n",
      "0\t2\t4\t6\t8\t10\t12\t14\t16\t18\t"
     ]
    }
   ],
   "source": [
    "list1 = LinkedList()\n",
    "for i in range(20):\n",
    "    list1.append(i)\n",
    "Findprime(list1)\n",
    "\n",
    "isEven(list1)"
   ]
  },
  {
   "cell_type": "markdown",
   "metadata": {},
   "source": [
    "3. Consider a book object with following fields \n",
    "id \n",
    "\n",
    "title \n",
    "\n",
    "author \n",
    "\n",
    "price  \n",
    "\n",
    "rating \n",
    "\n",
    "4. Write Find Function to \n",
    "\n",
    "Find a  book by id \n",
    "\n",
    "Find all books by an author \n",
    "\n",
    "Find all books in rating range \n",
    "\n",
    "Find all books in price range \n",
    "\n",
    " "
   ]
  },
  {
   "cell_type": "code",
   "execution_count": 69,
   "metadata": {},
   "outputs": [],
   "source": [
    "class BNode:\n",
    "    def __init__(self,id,title,author,price,rating,_next=None, previous=None):\n",
    "        self._id = id\n",
    "        self._title = title\n",
    "        self._author = author\n",
    "        self._price = price\n",
    "        self._rating = rating\n",
    "        self._next=_next\n",
    "        self._previous=previous\n",
    "    \n"
   ]
  },
  {
   "cell_type": "code",
   "execution_count": 79,
   "metadata": {},
   "outputs": [],
   "source": [
    "class BookLinkedList:\n",
    "    def __init__(self):\n",
    "        self._first=None\n",
    "\n",
    "    def append(self,id,title,author,price,rating):\n",
    "        if self._first==None: # list is empty\n",
    "            self._first=BNode(id,title,author,price,rating)\n",
    "        else: # add to the end of a non-empty list\n",
    "            n=self._first\n",
    "            while n._next:\n",
    "                n=n._next\n",
    "            n._next=BNode(id,title,author,price,rating, previous=n)\n",
    "\n",
    "    def info(self):\n",
    "        if self._first==None: \n",
    "            return \"LinkedList(empty)\"\n",
    "        str=\"LinkedList(\\t\"\n",
    "        n=self._first\n",
    "        while n:\n",
    "            str+=f'{n._title}\\t'\n",
    "            n=n._next\n",
    "        str+=\")\"\n",
    "        return str\n",
    "\n",
    "    def size(self):\n",
    "        c=0\n",
    "        n=self._first\n",
    "        while n:\n",
    "            c+=1\n",
    "            n=n._next\n",
    "        return c\n",
    "    \n",
    "    def sortbyPrice(self):\n",
    "        if self._first==None or self._first._next == None:\n",
    "            # The list is empty or has only one item, no need to sort\n",
    "            return\n",
    "\n",
    "        sorted = False\n",
    "        while not sorted:\n",
    "            current = self._first\n",
    "            sorted = True\n",
    "            while current._next:\n",
    "                if current._price > current._next._price:\n",
    "                    # Swap the nodes' data (id, title, author, price, rating)\n",
    "                    current._id, current._next._id = current._next._id, current._id\n",
    "                    current._title, current._next._title = current._next._title, current._title\n",
    "                    current._author, current._next._author = current._next._author, current._author\n",
    "                    current._price, current._next._price = current._next._price, current._price\n",
    "                    current._rating, current._next._rating = current._next._rating, current._rating\n",
    "                    sorted = False\n",
    "                current = current._next\n",
    "            "
   ]
  },
  {
   "cell_type": "code",
   "execution_count": 80,
   "metadata": {},
   "outputs": [
    {
     "name": "stdout",
     "output_type": "stream",
     "text": [
      "Before Sorting: LinkedList(\tHP\tIKIGAI\tST\tRRR\tGOT\tDKL\t)\n",
      "After Sorting: LinkedList(\tGOT\tST\tHP\tIKIGAI\tDKL\tRRR\t)\n"
     ]
    }
   ],
   "source": [
    "b = BookLinkedList()\n",
    "b.append(120,\"HP\",\"JKR\",50,5)\n",
    "b.append(120,\"IKIGAI\",\"JKR\",60,5)\n",
    "b.append(120,\"ST\",\"JKR\",30,5)\n",
    "b.append(120,\"RRR\",\"JKR\",260,5)\n",
    "b.append(120,\"GOT\",\"JKR\",20,5)\n",
    "b.append(120,\"DKL\",\"JKR\",150,5)\n",
    "\n",
    "print(\"Before Sorting:\",b.info())\n",
    "b.sortbyPrice()\n",
    "print(\"After Sorting:\",b.info())\n"
   ]
  },
  {
   "cell_type": "code",
   "execution_count": 66,
   "metadata": {},
   "outputs": [
    {
     "data": {
      "text/plain": [
       "'HP'"
      ]
     },
     "execution_count": 66,
     "metadata": {},
     "output_type": "execute_result"
    }
   ],
   "source": [
    "def findByID(list,id):\n",
    "    cur = list._first\n",
    "    while cur:\n",
    "        if cur._id==id:\n",
    "            return f'{cur._title}'\n",
    "        cur = cur._next\n",
    "    else:\n",
    "        return f'Id not found'\n",
    "     \n",
    "findByID(b,123)"
   ]
  },
  {
   "cell_type": "code",
   "execution_count": 34,
   "metadata": {},
   "outputs": [
    {
     "name": "stdout",
     "output_type": "stream",
     "text": [
      "HP\n"
     ]
    }
   ],
   "source": [
    "def findByauthor(list,author):\n",
    "    cur = list._first\n",
    "    flag=0\n",
    "    while cur:\n",
    "        if cur._author==author:\n",
    "            flag=1\n",
    "            print( f'{cur._title}')\n",
    "        cur = cur.__next\n",
    "        \n",
    "    else:\n",
    "        if flag==0:\n",
    "            return f'No author by {author} found'\n",
    "\n",
    "findByauthor(b,\"JK\")"
   ]
  },
  {
   "cell_type": "code",
   "execution_count": 63,
   "metadata": {},
   "outputs": [
    {
     "name": "stdout",
     "output_type": "stream",
     "text": [
      "HP\n",
      "SM\n"
     ]
    }
   ],
   "source": [
    "def findByRating(list,rating):\n",
    "    cur = list._first\n",
    "    flag=0\n",
    "    while cur:\n",
    "        if cur._rating==rating:\n",
    "            flag = 1\n",
    "            print( f'{cur._title}')\n",
    "        cur = cur._next\n",
    "        \n",
    "    else:\n",
    "        if flag==0:\n",
    "            return f'No book has rating {rating}'\n",
    "\n",
    "findByRating(b,5)"
   ]
  },
  {
   "cell_type": "code",
   "execution_count": 65,
   "metadata": {},
   "outputs": [
    {
     "data": {
      "text/plain": [
       "'No book has within the prce range(25, 50)'"
      ]
     },
     "execution_count": 65,
     "metadata": {},
     "output_type": "execute_result"
    }
   ],
   "source": [
    "def findByPrice(list,min,max):\n",
    "    cur = list._first\n",
    "    flag=0\n",
    "    while cur:\n",
    "        if cur._price<max and cur._price>min:\n",
    "            flag = 1\n",
    "            print( f'{cur._title}')\n",
    "        cur = cur._next\n",
    "        \n",
    "    else:\n",
    "        if flag==0:\n",
    "            return f'No book has within the prce range{min,max}'\n",
    "        \n",
    "findByPrice(b,25,50)"
   ]
  }
 ],
 "metadata": {
  "kernelspec": {
   "display_name": "Python 3",
   "language": "python",
   "name": "python3"
  },
  "language_info": {
   "codemirror_mode": {
    "name": "ipython",
    "version": 3
   },
   "file_extension": ".py",
   "mimetype": "text/x-python",
   "name": "python",
   "nbconvert_exporter": "python",
   "pygments_lexer": "ipython3",
   "version": "3.11.5"
  },
  "orig_nbformat": 4
 },
 "nbformat": 4,
 "nbformat_minor": 2
}
