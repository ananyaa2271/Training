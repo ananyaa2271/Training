{
 "cells": [
  {
   "cell_type": "markdown",
   "metadata": {},
   "source": [
    " **** Linked List Alteration ****\n",
    " How can we improve the performance of\n",
    "\n",
    "adding item to list\n",
    "accessing the items\n",
    "add functionality to use\n",
    "\n",
    "20 in linkedlist\n",
    "linkedlist.count(5)\n",
    "while linkedlist: linkedlist.remove(0) * should stop after removing all items from the list"
   ]
  },
  {
   "cell_type": "code",
   "execution_count": 21,
   "metadata": {},
   "outputs": [],
   "source": [
    "class Node:\n",
    "    def __init__(self, value,_next=None, previous=None):\n",
    "        self._value=value\n",
    "        self._next=_next\n",
    "        self._previous=previous"
   ]
  },
  {
   "cell_type": "code",
   "execution_count": 55,
   "metadata": {},
   "outputs": [],
   "source": [
    "class LinkedList:\n",
    "    def __init__(self):\n",
    "        self._first=None\n",
    "        self._last=None\n",
    "\n",
    "    def append(self, value):\n",
    "        if self._first==None: # list is empty\n",
    "            newN = Node(value)\n",
    "            self._first=newN\n",
    "            self._last=newN\n",
    "        else: # add to the end of a non-empty list\n",
    "            n=self._first\n",
    "            while n._next:\n",
    "                n=n._next\n",
    "            newN=Node(value, previous=n)\n",
    "            n._next=newN\n",
    "            self._last=newN\n",
    "\n",
    "    # Optimize Code to append data\n",
    "    def append_last(self,value):\n",
    "        if self._first==None: # list is empty\n",
    "            newN = Node(value)\n",
    "            self._first=newN\n",
    "            self._last=newN\n",
    "        else: # add to the end of a non-empty list\n",
    "            newN=Node(value,previous=self._last)\n",
    "            self._last._next=newN\n",
    "            self._last=newN\n",
    "            print(self._last._value)\n",
    "\n",
    "    #Optimizing Code to accessing the items\n",
    "    def get_first(self):\n",
    "        first = self._first._value if self._first else None\n",
    "        print(f'first : {first} ')\n",
    "\n",
    "    def get_last(self):\n",
    "        last = self._last._value if self._last else None\n",
    "        print(f'last: {last}')\n",
    "\n",
    "    #Otimized code to remove \n",
    "    def remove_opt(self):\n",
    "        self._first = None\n",
    "        self._last = None\n",
    "    \n",
    "    #optimized\n",
    "    def count(self, value):\n",
    "        cur = self._first \n",
    "        count = 0\n",
    "        while(cur != None):\n",
    "            if(cur._value == value):\n",
    "                count += 1\n",
    "            cur = cur._next\n",
    "        return count\n",
    "\n",
    "\n",
    "\n",
    "    def info(self):\n",
    "        if self._first==None: \n",
    "            return \"LinkedList(empty)\"\n",
    "        str=\"LinkedList(\\t\"\n",
    "        n=self._first\n",
    "        while n:\n",
    "            str+=f'{n._value}\\t'\n",
    "            n=n._next\n",
    "        str+=\")\"\n",
    "        return str\n",
    "\n",
    "    def size(self):\n",
    "        c=0\n",
    "        n=self._first\n",
    "        while n:\n",
    "            c+=1\n",
    "            n=n._next\n",
    "        return c\n",
    "            "
   ]
  },
  {
   "cell_type": "code",
   "execution_count": 56,
   "metadata": {},
   "outputs": [
    {
     "name": "stdout",
     "output_type": "stream",
     "text": [
      "LinkedList(empty)\n"
     ]
    }
   ],
   "source": [
    "l1 = LinkedList()\n",
    "\n",
    "print(l1.info())\n",
    "\n"
   ]
  },
  {
   "cell_type": "code",
   "execution_count": 57,
   "metadata": {},
   "outputs": [
    {
     "name": "stdout",
     "output_type": "stream",
     "text": [
      "size 5\n",
      "6\n",
      "10\n",
      "LinkedList(\t2\t3\t9\t2\t6\t10\t)\n"
     ]
    }
   ],
   "source": [
    "for value in [2,3,9,2,6]:\n",
    "    l1.append(value)\n",
    "\n",
    "print('size', l1.size())\n",
    "print(l1._last._value)\n",
    "l1.append_last(10)\n",
    "print(l1.info())"
   ]
  },
  {
   "cell_type": "code",
   "execution_count": 58,
   "metadata": {},
   "outputs": [],
   "source": [
    "def get(list,index):\n",
    "    n=list._first\n",
    "    for i in range(index):\n",
    "        n=n._next\n",
    "        if n==None:\n",
    "            break\n",
    "    else:\n",
    "        return n._value\n",
    "\n",
    "LinkedList.get = get\n",
    "\n"
   ]
  },
  {
   "cell_type": "code",
   "execution_count": 28,
   "metadata": {},
   "outputs": [
    {
     "data": {
      "text/plain": [
       "2"
      ]
     },
     "execution_count": 28,
     "metadata": {},
     "output_type": "execute_result"
    }
   ],
   "source": [
    "l1.get(3)"
   ]
  },
  {
   "cell_type": "code",
   "execution_count": 29,
   "metadata": {},
   "outputs": [],
   "source": [
    "def set(list,index,value):\n",
    "    n=list._first\n",
    "    for i in range(index):\n",
    "        n=n._next\n",
    "        if n==None:\n",
    "            break\n",
    "    else:\n",
    "        n._value=value\n",
    "\n",
    "LinkedList.set=set"
   ]
  },
  {
   "cell_type": "code",
   "execution_count": 30,
   "metadata": {},
   "outputs": [
    {
     "name": "stdout",
     "output_type": "stream",
     "text": [
      "0\n",
      "1\n",
      "2\n",
      "3\n",
      "4\n",
      "LinkedList(\t0\t10\t20\t30\t40\t)\n"
     ]
    }
   ],
   "source": [
    "l2=LinkedList()\n",
    "for i in range(5):\n",
    "    l2.append(i)\n",
    "    \n",
    "for i in range(l2.size()):\n",
    "    print(l2.get(i))\n",
    "    l2.set(i, i*10)\n",
    "\n",
    "print(l2.info())\n"
   ]
  },
  {
   "cell_type": "code",
   "execution_count": 31,
   "metadata": {},
   "outputs": [],
   "source": [
    "def loop(list,index):\n",
    "    count = 0\n",
    "    prev = list._first\n",
    "    cur = list._first\n",
    "    while count<index and cur:\n",
    "        prev = cur            \n",
    "        cur = cur. _next                \n",
    "        count+=1\n",
    "    return [prev,cur]"
   ]
  },
  {
   "cell_type": "code",
   "execution_count": 32,
   "metadata": {},
   "outputs": [],
   "source": [
    "def insert(list, index, value):\n",
    "    # print(list.size())\n",
    "    if (index > list.size()) or index<0:\n",
    "        print(\"Invalid INdex\")\n",
    "\n",
    "    else:\n",
    "    \n",
    "        if index == 0:\n",
    "            newN = Node(value,list._first,None)\n",
    "            list._prev = newN\n",
    "            list._first = newN\n",
    "\n",
    "\n",
    "        else:\n",
    "            prev,cur = loop(list,index)\n",
    "            # print(cur._value)\n",
    "            print(prev._value)\n",
    "            if index == list.size():\n",
    "                newN = Node(value,None,prev)\n",
    "                prev. _next = newN\n",
    "            else:\n",
    "                newN = Node(value,cur,prev)\n",
    "                cur._previous = newN\n",
    "                prev. _next = newN\n",
    "\n",
    "        \n",
    "    \n",
    "\n",
    "def remove(list, index):\n",
    "    if (index > list.size()) or index<0:\n",
    "        print(\"Invalid INdex\")\n",
    "\n",
    "    else:\n",
    "    \n",
    "        if index == 0:\n",
    "            list._first = list._first. _next\n",
    "            list._first._previous = None\n",
    "\n",
    "\n",
    "        else:\n",
    "            prev,cur = loop(list,index)\n",
    "            print(cur._value)\n",
    "            print(prev._value)\n",
    "            if index == list.size()-1:\n",
    "                 prev. _next = None\n",
    "            else:\n",
    "                  prev. _next = cur. _next\n",
    "                  cur. _next._prev = prev \n",
    "\n"
   ]
  },
  {
   "cell_type": "code",
   "execution_count": 33,
   "metadata": {},
   "outputs": [
    {
     "name": "stdout",
     "output_type": "stream",
     "text": [
      "30\n",
      "20\n",
      "LinkedList(\t0\t10\t20\t40\t)\n"
     ]
    }
   ],
   "source": [
    "# insert(l2,2,5)\n",
    "remove(l2,3)\n",
    "print(l2.info())"
   ]
  }
 ],
 "metadata": {
  "kernelspec": {
   "display_name": "Python 3",
   "language": "python",
   "name": "python3"
  },
  "language_info": {
   "codemirror_mode": {
    "name": "ipython",
    "version": 3
   },
   "file_extension": ".py",
   "mimetype": "text/x-python",
   "name": "python",
   "nbconvert_exporter": "python",
   "pygments_lexer": "ipython3",
   "version": "3.11.5"
  },
  "orig_nbformat": 4,
  "vscode": {
   "interpreter": {
    "hash": "bc4e78314997db9a44b6830e0aa6b75a33973256eb5fdaf587cb7b38c9328874"
   }
  }
 },
 "nbformat": 4,
 "nbformat_minor": 2
}
